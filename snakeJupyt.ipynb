{
 "cells": [
  {
   "cell_type": "code",
   "execution_count": 32,
   "metadata": {},
   "outputs": [],
   "source": [
    "import numpy as np\n",
    "from matplotlib import pyplot as plt\n",
    "from scipy import sparse as sp\n",
    "import cv2\n",
    "import math"
   ]
  },
  {
   "cell_type": "code",
   "execution_count": 33,
   "metadata": {},
   "outputs": [],
   "source": [
    "im = cv2.imread('im_goutte.png', 0)\n",
    "colonne,ligne = len(im),len(im[0])\n",
    "\n",
    "K=400\n",
    "s=[i/K for i in range(K+1)]\n",
    "\n",
    "\n",
    "x0=math.floor(ligne/2)\n",
    "y0=math.floor(colonne/2)\n",
    "\n",
    "amp=90\n",
    "\n",
    "c=np.zeros((K+1,1,2),dtype=int)\n",
    "\n",
    "c[:,0,0] = [x0 + amp*math.cos(2*math.pi*i) for i in s]\n",
    "c[:,0,1] = [y0 + amp*math.sin(2*math.pi*i) for i in s]"
   ]
  },
  {
   "cell_type": "code",
   "execution_count": 34,
   "metadata": {},
   "outputs": [
    {
     "data": {
      "image/png": "[encoded data removed]",
      "text/plain": [
       "<Figure size 432x288 with 1 Axes>"
      ]
     },
     "metadata": {
      "needs_background": "light"
     },
     "output_type": "display_data"
    }
   ],
   "source": [
    "cv2.drawContours(image=im,contours=c, contourIdx=-1, color=(0, 255, 0), thickness=2,lineType=cv2.LINE_AA)\n",
    "\n",
    "cv2.imwrite('goutte_snake_initialisation.png',im)\n",
    "\n",
    "plt.figure()\n",
    "plt.imshow(im,'gray')\n",
    "plt.show()\n"
   ]
  },
  {
   "cell_type": "markdown",
   "metadata": {},
   "source": [
    "Calcul des dérivées premières et secondes\n",
    "Mise en place des variables pour la descente du snake"
   ]
  },
  {
   "cell_type": "code",
   "execution_count": 35,
   "metadata": {},
   "outputs": [
    {
     "name": "stderr",
     "output_type": "stream",
     "text": [
      "/opt/python/cpe/lib/python3.6/site-packages/ipykernel_launcher.py:6: VisibleDeprecationWarning: Creating an ndarray from ragged nested sequences (which is a list-or-tuple of lists-or-tuples-or ndarrays with different lengths or shapes) is deprecated. If you meant to do this, you must specify 'dtype=object' when creating the ndarray\n",
      "  \n",
      "/opt/python/cpe/lib/python3.6/site-packages/ipykernel_launcher.py:14: VisibleDeprecationWarning: Creating an ndarray from ragged nested sequences (which is a list-or-tuple of lists-or-tuples-or ndarrays with different lengths or shapes) is deprecated. If you meant to do this, you must specify 'dtype=object' when creating the ndarray\n",
      "  \n"
     ]
    }
   ],
   "source": [
    "alpha=1\n",
    "beta=0.5\n",
    "gamma=0.5\n",
    "\n",
    "\n",
    "k1 = np.array([np.ones(K-1),-2*np.ones(K),np.ones(K-1)])\n",
    "offset1 = [-1,0,1]\n",
    "D2 = sp.diags(k1,offset1).toarray()\n",
    "\n",
    "D2[K-1][0]=1\n",
    "D2[0][K-1]=1\n",
    "\n",
    "\n",
    "k2 = np.array([np.ones(K-2),-4*np.ones(K-1),6*np.ones(K),-4*np.ones(K-1),np.ones(K-2)])\n",
    "offset2 = [-2,-1,0,1,2]\n",
    "D4 = sp.diags(k2,offset2).toarray()\n",
    "\n",
    "D4[K-2][0]=1\n",
    "D4[K-1][1]=1\n",
    "D4[K-1][0]=-4\n",
    "\n",
    "D4[0][K-2]=1\n",
    "D4[1][K-1]=1\n",
    "D4[0][K-1]=-4\n",
    "\n",
    "D=alpha*D2+beta*D4"
   ]
  },
  {
   "cell_type": "markdown",
   "metadata": {},
   "source": [
    "Mise en place des itérations"
   ]
  },
  {
   "cell_type": "code",
   "execution_count": 42,
   "metadata": {},
   "outputs": [],
   "source": [
    "#initialisation :\n",
    "\n",
    "A=np.linalg.inv(np.identity(np.shape(D)[0])-D)\n",
    "GradX,GradY=np.gradient(im)\n",
    "EnergExterne=np.square(GradX)+np.square(GradY)\n",
    "GradEnerg=np.gradient(EnergExterne)/(np.gradient(EnergExterne)[0]+np.gradient(EnergExterne)[1])"
   ]
  },
  {
   "cell_type": "code",
   "execution_count": null,
   "metadata": {},
   "outputs": [],
   "source": []
  }
 ],
 "metadata": {
  "interpreter": {
   "hash": "ce1d197b91585663d301b7c15496bd8534bf5a5381eb503d6108c90c727a4f14"
  },
  "kernelspec": {
   "display_name": "Python 3.6.9 ('cpe')",
   "language": "python",
   "name": "python3"
  },
  "language_info": {
   "codemirror_mode": {
    "name": "ipython",
    "version": 3
   },
   "file_extension": ".py",
   "mimetype": "text/x-python",
   "name": "python",
   "nbconvert_exporter": "python",
   "pygments_lexer": "ipython3",
   "version": "3.6.9"
  },
  "orig_nbformat": 4
 },
 "nbformat": 4,
 "nbformat_minor": 2
}
